{
 "cells": [
  {
   "cell_type": "markdown",
   "metadata": {},
   "source": [
    "### Proceso de optimización de la red\n",
    "\n",
    "Enumera aquí las distintas arquitecturas que se han entrenado, incluyendo la motivación y resultados/mejoras de los distintos entrenamientos."
   ]
  },
  {
   "cell_type": "markdown",
   "metadata": {},
   "source": [
    "1.(EJEMPLO)\n",
    "\n",
    "* Architectura: Hidden layers: 10, Optimizer: Adam, learning rate: 0.001, batch size: 512, epochs: 200.\n",
    "* Motivación: Reducción del learning rate para intentar acercanos más al mínimo de la función de pérdida.\n",
    "* Resultados: No se encuentra una mejora significativa del val_loss\n",
    "\n",
    "2.\n",
    "\n",
    "\n",
    "3.\n",
    "\n",
    "\n",
    "...."
   ]
  }
 ],
 "metadata": {
  "kernelspec": {
   "display_name": "Python 3",
   "language": "python",
   "name": "python3"
  },
  "language_info": {
   "codemirror_mode": {
    "name": "ipython",
    "version": 3
   },
   "file_extension": ".py",
   "mimetype": "text/x-python",
   "name": "python",
   "nbconvert_exporter": "python",
   "pygments_lexer": "ipython3",
   "version": "3.6.5"
  }
 },
 "nbformat": 4,
 "nbformat_minor": 2
}
